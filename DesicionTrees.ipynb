{
 "cells": [
  {
   "cell_type": "code",
   "execution_count": 30,
   "id": "51259503-81ac-4bfc-902e-a50dcd46306a",
   "metadata": {
    "tags": []
   },
   "outputs": [
    {
     "data": {
      "text/html": [
       "<div>\n",
       "<style scoped>\n",
       "    .dataframe tbody tr th:only-of-type {\n",
       "        vertical-align: middle;\n",
       "    }\n",
       "\n",
       "    .dataframe tbody tr th {\n",
       "        vertical-align: top;\n",
       "    }\n",
       "\n",
       "    .dataframe thead th {\n",
       "        text-align: right;\n",
       "    }\n",
       "</style>\n",
       "<table border=\"1\" class=\"dataframe\">\n",
       "  <thead>\n",
       "    <tr style=\"text-align: right;\">\n",
       "      <th></th>\n",
       "      <th>A</th>\n",
       "      <th>B</th>\n",
       "      <th>NOR</th>\n",
       "      <th>NAND</th>\n",
       "    </tr>\n",
       "  </thead>\n",
       "  <tbody>\n",
       "    <tr>\n",
       "      <th>0</th>\n",
       "      <td>0</td>\n",
       "      <td>0</td>\n",
       "      <td>1</td>\n",
       "      <td>1</td>\n",
       "    </tr>\n",
       "    <tr>\n",
       "      <th>1</th>\n",
       "      <td>0</td>\n",
       "      <td>1</td>\n",
       "      <td>0</td>\n",
       "      <td>1</td>\n",
       "    </tr>\n",
       "    <tr>\n",
       "      <th>2</th>\n",
       "      <td>1</td>\n",
       "      <td>0</td>\n",
       "      <td>0</td>\n",
       "      <td>1</td>\n",
       "    </tr>\n",
       "    <tr>\n",
       "      <th>3</th>\n",
       "      <td>1</td>\n",
       "      <td>1</td>\n",
       "      <td>0</td>\n",
       "      <td>0</td>\n",
       "    </tr>\n",
       "  </tbody>\n",
       "</table>\n",
       "</div>"
      ],
      "text/plain": [
       "   A  B  NOR  NAND\n",
       "0  0  0    1     1\n",
       "1  0  1    0     1\n",
       "2  1  0    0     1\n",
       "3  1  1    0     0"
      ]
     },
     "execution_count": 30,
     "metadata": {},
     "output_type": "execute_result"
    }
   ],
   "source": [
    "import pandas as pd\n",
    "import numpy as np \n",
    "from sklearn.tree import DecisionTreeClassifier\n",
    "\n",
    "# Створення датафрейму з вхідними даними\n",
    "data = pd.DataFrame({\n",
    "    'A': [0, 0, 1, 1],\n",
    "    'B': [0, 1, 0, 1],\n",
    "    'NOR': [1, 0, 0, 0],\n",
    "    'NAND': [1, 1, 1, 0]\n",
    "})\n",
    "\n",
    "data.head()"
   ]
  },
  {
   "cell_type": "code",
   "execution_count": 31,
   "id": "a1b08b57-f744-41a7-93e6-d85a7f0d3d42",
   "metadata": {
    "tags": []
   },
   "outputs": [
    {
     "data": {
      "text/html": [
       "<div>\n",
       "<style scoped>\n",
       "    .dataframe tbody tr th:only-of-type {\n",
       "        vertical-align: middle;\n",
       "    }\n",
       "\n",
       "    .dataframe tbody tr th {\n",
       "        vertical-align: top;\n",
       "    }\n",
       "\n",
       "    .dataframe thead th {\n",
       "        text-align: right;\n",
       "    }\n",
       "</style>\n",
       "<table border=\"1\" class=\"dataframe\">\n",
       "  <thead>\n",
       "    <tr style=\"text-align: right;\">\n",
       "      <th></th>\n",
       "      <th>A</th>\n",
       "      <th>B</th>\n",
       "      <th>NOR</th>\n",
       "      <th>NAND</th>\n",
       "      <th>Class</th>\n",
       "    </tr>\n",
       "  </thead>\n",
       "  <tbody>\n",
       "    <tr>\n",
       "      <th>0</th>\n",
       "      <td>0</td>\n",
       "      <td>0</td>\n",
       "      <td>1</td>\n",
       "      <td>1</td>\n",
       "      <td>11</td>\n",
       "    </tr>\n",
       "    <tr>\n",
       "      <th>1</th>\n",
       "      <td>0</td>\n",
       "      <td>1</td>\n",
       "      <td>0</td>\n",
       "      <td>1</td>\n",
       "      <td>01</td>\n",
       "    </tr>\n",
       "    <tr>\n",
       "      <th>2</th>\n",
       "      <td>1</td>\n",
       "      <td>0</td>\n",
       "      <td>0</td>\n",
       "      <td>1</td>\n",
       "      <td>01</td>\n",
       "    </tr>\n",
       "    <tr>\n",
       "      <th>3</th>\n",
       "      <td>1</td>\n",
       "      <td>1</td>\n",
       "      <td>0</td>\n",
       "      <td>0</td>\n",
       "      <td>00</td>\n",
       "    </tr>\n",
       "  </tbody>\n",
       "</table>\n",
       "</div>"
      ],
      "text/plain": [
       "   A  B  NOR  NAND Class\n",
       "0  0  0    1     1    11\n",
       "1  0  1    0     1    01\n",
       "2  1  0    0     1    01\n",
       "3  1  1    0     0    00"
      ]
     },
     "execution_count": 31,
     "metadata": {},
     "output_type": "execute_result"
    }
   ],
   "source": [
    "# Створення стовпця \"Class\" на основі конкатенації стовпців NOR і NAND\n",
    "data['Class'] = data['NOR'].astype(str) + data['NAND'].astype(str)\n",
    "\n",
    "data.head()\n"
   ]
  },
  {
   "cell_type": "code",
   "execution_count": 32,
   "id": "e628d503-ceca-4345-aa7a-b941290d071b",
   "metadata": {
    "tags": []
   },
   "outputs": [],
   "source": [
    "# Розділення датафрейму на ознаки (X) та мітки класу (Y)\n",
    "X = data[['A', 'B']]\n",
    "Y = data['Class']"
   ]
  },
  {
   "cell_type": "code",
   "execution_count": 33,
   "id": "de4a1d2e-b165-4bfb-8b45-496d168b5c3a",
   "metadata": {
    "tags": []
   },
   "outputs": [
    {
     "data": {
      "text/html": [
       "<div>\n",
       "<style scoped>\n",
       "    .dataframe tbody tr th:only-of-type {\n",
       "        vertical-align: middle;\n",
       "    }\n",
       "\n",
       "    .dataframe tbody tr th {\n",
       "        vertical-align: top;\n",
       "    }\n",
       "\n",
       "    .dataframe thead th {\n",
       "        text-align: right;\n",
       "    }\n",
       "</style>\n",
       "<table border=\"1\" class=\"dataframe\">\n",
       "  <thead>\n",
       "    <tr style=\"text-align: right;\">\n",
       "      <th></th>\n",
       "      <th>A</th>\n",
       "      <th>B</th>\n",
       "    </tr>\n",
       "  </thead>\n",
       "  <tbody>\n",
       "    <tr>\n",
       "      <th>0</th>\n",
       "      <td>0</td>\n",
       "      <td>0</td>\n",
       "    </tr>\n",
       "    <tr>\n",
       "      <th>1</th>\n",
       "      <td>0</td>\n",
       "      <td>1</td>\n",
       "    </tr>\n",
       "    <tr>\n",
       "      <th>2</th>\n",
       "      <td>1</td>\n",
       "      <td>0</td>\n",
       "    </tr>\n",
       "    <tr>\n",
       "      <th>3</th>\n",
       "      <td>1</td>\n",
       "      <td>1</td>\n",
       "    </tr>\n",
       "  </tbody>\n",
       "</table>\n",
       "</div>"
      ],
      "text/plain": [
       "   A  B\n",
       "0  0  0\n",
       "1  0  1\n",
       "2  1  0\n",
       "3  1  1"
      ]
     },
     "execution_count": 33,
     "metadata": {},
     "output_type": "execute_result"
    }
   ],
   "source": [
    "# Створення об'єкту дерева рішень\n",
    "clf = DecisionTreeClassifier()\n",
    "\n",
    "# Побудова дерева рішень на основі вхідних даних\n",
    "clf.fit(X, Y)\n",
    "\n",
    "# Класифікація нового об'єкту\n",
    "new_object = data = pd.DataFrame({\n",
    "    'A': [0, 0, 1, 1],\n",
    "    'B': [0, 1, 0, 1],\n",
    "})  # Новий об'єкт, для якого потрібно зробити прогноз\n",
    "\n",
    "new_object.head()\n"
   ]
  },
  {
   "cell_type": "code",
   "execution_count": 34,
   "id": "c6b1d613-5b80-4f48-b13b-e698cc1abc36",
   "metadata": {
    "tags": []
   },
   "outputs": [
    {
     "name": "stdout",
     "output_type": "stream",
     "text": [
      "Прогнозована мітка класу для нового об'єкту: ['11' '01' '01' '00']\n"
     ]
    }
   ],
   "source": [
    "prediction = clf.predict(new_object)\n",
    "print(\"Прогнозована мітка класу для нового об'єкту:\", prediction)"
   ]
  },
  {
   "cell_type": "code",
   "execution_count": 35,
   "id": "8aa8aa6d-3566-4740-9a6e-4f580f22939d",
   "metadata": {
    "tags": []
   },
   "outputs": [
    {
     "data": {
      "text/plain": [
       "'decision_tree.pdf'"
      ]
     },
     "execution_count": 35,
     "metadata": {},
     "output_type": "execute_result"
    }
   ],
   "source": [
    "from sklearn.tree import export_graphviz\n",
    "import graphviz\n",
    "\n",
    "# Генерація коду для візуалізації дерева рішень\n",
    "dot_data = export_graphviz(clf, out_file=None, feature_names=X.columns, class_names=clf.classes_, filled=True)\n",
    "\n",
    "# Створення об'єкту графу на основі згенерованого коду\n",
    "graph = graphviz.Source(dot_data)\n",
    "\n",
    "# Відображення графічного представлення дерева\n",
    "graph.render(filename='decision_tree', format='png', cleanup=True)\n",
    "graph.view()"
   ]
  },
  {
   "cell_type": "markdown",
   "id": "f2428c95-ed92-4b83-8799-b56daf08dc5b",
   "metadata": {
    "tags": []
   },
   "source": [
    "Будемо працювати з набором даних для задачі класифікації - дані про серцево-судинні захворювання."
   ]
  },
  {
   "cell_type": "markdown",
   "id": "a15f4d8c-e26a-469e-99e8-375baa4a3e07",
   "metadata": {},
   "source": [
    "У цій задачі пропонується передбачити наявність серцево-судинних захворювань на основі результатів класичного медичного огляду. \n",
    "Датасет містить три групи ознак:\n",
    "    Об'єктивні ознаки:\n",
    "        Вік (у днях);\n",
    "        Зріст;\n",
    "        Вага;\n",
    "    Стать;\n",
    "        Результати вимірювання:\n",
    "        Верхній та нижній артеріальний тиск;\n",
    "        Рівень холестерину (три групи: норма, вище норми, значно вище норми);\n",
    "        Рівень глюкози (три групи: норма, вище норми, значно вище норми);\n",
    "    Суб'єктивні ознаки (бінарні):\n",
    "        Куріння;\n",
    "        Споживання алкоголю;\n",
    "        Фізична активність."
   ]
  },
  {
   "cell_type": "code",
   "execution_count": 36,
   "id": "c25d3bc9-00df-4ca6-a498-8e3b810aa2d4",
   "metadata": {},
   "outputs": [
    {
     "data": {
      "text/html": [
       "<div>\n",
       "<style scoped>\n",
       "    .dataframe tbody tr th:only-of-type {\n",
       "        vertical-align: middle;\n",
       "    }\n",
       "\n",
       "    .dataframe tbody tr th {\n",
       "        vertical-align: top;\n",
       "    }\n",
       "\n",
       "    .dataframe thead th {\n",
       "        text-align: right;\n",
       "    }\n",
       "</style>\n",
       "<table border=\"1\" class=\"dataframe\">\n",
       "  <thead>\n",
       "    <tr style=\"text-align: right;\">\n",
       "      <th></th>\n",
       "      <th>id</th>\n",
       "      <th>age</th>\n",
       "      <th>gender</th>\n",
       "      <th>height</th>\n",
       "      <th>weight</th>\n",
       "      <th>ap_hi</th>\n",
       "      <th>ap_lo</th>\n",
       "      <th>cholesterol</th>\n",
       "      <th>gluc</th>\n",
       "      <th>smoke</th>\n",
       "      <th>alco</th>\n",
       "      <th>active</th>\n",
       "      <th>cardio</th>\n",
       "    </tr>\n",
       "  </thead>\n",
       "  <tbody>\n",
       "    <tr>\n",
       "      <th>0</th>\n",
       "      <td>0</td>\n",
       "      <td>18393</td>\n",
       "      <td>2</td>\n",
       "      <td>168</td>\n",
       "      <td>62.0</td>\n",
       "      <td>110</td>\n",
       "      <td>80</td>\n",
       "      <td>1</td>\n",
       "      <td>1</td>\n",
       "      <td>0</td>\n",
       "      <td>0</td>\n",
       "      <td>1</td>\n",
       "      <td>0</td>\n",
       "    </tr>\n",
       "    <tr>\n",
       "      <th>1</th>\n",
       "      <td>1</td>\n",
       "      <td>20228</td>\n",
       "      <td>1</td>\n",
       "      <td>156</td>\n",
       "      <td>85.0</td>\n",
       "      <td>140</td>\n",
       "      <td>90</td>\n",
       "      <td>3</td>\n",
       "      <td>1</td>\n",
       "      <td>0</td>\n",
       "      <td>0</td>\n",
       "      <td>1</td>\n",
       "      <td>1</td>\n",
       "    </tr>\n",
       "    <tr>\n",
       "      <th>2</th>\n",
       "      <td>2</td>\n",
       "      <td>18857</td>\n",
       "      <td>1</td>\n",
       "      <td>165</td>\n",
       "      <td>64.0</td>\n",
       "      <td>130</td>\n",
       "      <td>70</td>\n",
       "      <td>3</td>\n",
       "      <td>1</td>\n",
       "      <td>0</td>\n",
       "      <td>0</td>\n",
       "      <td>0</td>\n",
       "      <td>1</td>\n",
       "    </tr>\n",
       "    <tr>\n",
       "      <th>3</th>\n",
       "      <td>3</td>\n",
       "      <td>17623</td>\n",
       "      <td>2</td>\n",
       "      <td>169</td>\n",
       "      <td>82.0</td>\n",
       "      <td>150</td>\n",
       "      <td>100</td>\n",
       "      <td>1</td>\n",
       "      <td>1</td>\n",
       "      <td>0</td>\n",
       "      <td>0</td>\n",
       "      <td>1</td>\n",
       "      <td>1</td>\n",
       "    </tr>\n",
       "    <tr>\n",
       "      <th>4</th>\n",
       "      <td>4</td>\n",
       "      <td>17474</td>\n",
       "      <td>1</td>\n",
       "      <td>156</td>\n",
       "      <td>56.0</td>\n",
       "      <td>100</td>\n",
       "      <td>60</td>\n",
       "      <td>1</td>\n",
       "      <td>1</td>\n",
       "      <td>0</td>\n",
       "      <td>0</td>\n",
       "      <td>0</td>\n",
       "      <td>0</td>\n",
       "    </tr>\n",
       "  </tbody>\n",
       "</table>\n",
       "</div>"
      ],
      "text/plain": [
       "   id    age  gender  height  weight  ap_hi  ap_lo  cholesterol  gluc  smoke   \n",
       "0   0  18393       2     168    62.0    110     80            1     1      0  \\\n",
       "1   1  20228       1     156    85.0    140     90            3     1      0   \n",
       "2   2  18857       1     165    64.0    130     70            3     1      0   \n",
       "3   3  17623       2     169    82.0    150    100            1     1      0   \n",
       "4   4  17474       1     156    56.0    100     60            1     1      0   \n",
       "\n",
       "   alco  active  cardio  \n",
       "0     0       1       0  \n",
       "1     0       1       1  \n",
       "2     0       0       1  \n",
       "3     0       1       1  \n",
       "4     0       0       0  "
      ]
     },
     "execution_count": 36,
     "metadata": {},
     "output_type": "execute_result"
    }
   ],
   "source": [
    "full_df = pd.read_csv('cardio.csv', sep=';')\n",
    "full_df.head()"
   ]
  },
  {
   "cell_type": "markdown",
   "id": "6f9ade10-baff-4240-a19b-cfe28623c5f2",
   "metadata": {},
   "source": [
    "Робота з даними\n",
    "Перевіримо чи необхідно очищення та обробка даних"
   ]
  },
  {
   "cell_type": "code",
   "execution_count": 37,
   "id": "433ba39f-dabb-480e-a536-c972003dedc6",
   "metadata": {},
   "outputs": [
    {
     "name": "stdout",
     "output_type": "stream",
     "text": [
      "<class 'pandas.core.frame.DataFrame'>\n",
      "RangeIndex: 70000 entries, 0 to 69999\n",
      "Data columns (total 13 columns):\n",
      " #   Column       Non-Null Count  Dtype  \n",
      "---  ------       --------------  -----  \n",
      " 0   id           70000 non-null  int64  \n",
      " 1   age          70000 non-null  int64  \n",
      " 2   gender       70000 non-null  int64  \n",
      " 3   height       70000 non-null  int64  \n",
      " 4   weight       70000 non-null  float64\n",
      " 5   ap_hi        70000 non-null  int64  \n",
      " 6   ap_lo        70000 non-null  int64  \n",
      " 7   cholesterol  70000 non-null  int64  \n",
      " 8   gluc         70000 non-null  int64  \n",
      " 9   smoke        70000 non-null  int64  \n",
      " 10  alco         70000 non-null  int64  \n",
      " 11  active       70000 non-null  int64  \n",
      " 12  cardio       70000 non-null  int64  \n",
      "dtypes: float64(1), int64(12)\n",
      "memory usage: 6.9 MB\n"
     ]
    }
   ],
   "source": [
    "# інформація про дані - назви стовпців, кількість, типи даних\n",
    "full_df.info()"
   ]
  },
  {
   "cell_type": "code",
   "execution_count": 38,
   "id": "e5d1fcca-35d8-4a46-a742-1e3e042dc757",
   "metadata": {},
   "outputs": [
    {
     "data": {
      "text/html": [
       "<div>\n",
       "<style scoped>\n",
       "    .dataframe tbody tr th:only-of-type {\n",
       "        vertical-align: middle;\n",
       "    }\n",
       "\n",
       "    .dataframe tbody tr th {\n",
       "        vertical-align: top;\n",
       "    }\n",
       "\n",
       "    .dataframe thead th {\n",
       "        text-align: right;\n",
       "    }\n",
       "</style>\n",
       "<table border=\"1\" class=\"dataframe\">\n",
       "  <thead>\n",
       "    <tr style=\"text-align: right;\">\n",
       "      <th></th>\n",
       "      <th>id</th>\n",
       "      <th>age</th>\n",
       "      <th>gender</th>\n",
       "      <th>height</th>\n",
       "      <th>weight</th>\n",
       "      <th>ap_hi</th>\n",
       "      <th>ap_lo</th>\n",
       "      <th>cholesterol</th>\n",
       "      <th>gluc</th>\n",
       "      <th>smoke</th>\n",
       "      <th>alco</th>\n",
       "      <th>active</th>\n",
       "      <th>cardio</th>\n",
       "    </tr>\n",
       "  </thead>\n",
       "  <tbody>\n",
       "    <tr>\n",
       "      <th>0</th>\n",
       "      <td>0</td>\n",
       "      <td>50</td>\n",
       "      <td>2</td>\n",
       "      <td>168</td>\n",
       "      <td>62.0</td>\n",
       "      <td>110</td>\n",
       "      <td>80</td>\n",
       "      <td>1</td>\n",
       "      <td>1</td>\n",
       "      <td>0</td>\n",
       "      <td>0</td>\n",
       "      <td>1</td>\n",
       "      <td>0</td>\n",
       "    </tr>\n",
       "    <tr>\n",
       "      <th>1</th>\n",
       "      <td>1</td>\n",
       "      <td>55</td>\n",
       "      <td>1</td>\n",
       "      <td>156</td>\n",
       "      <td>85.0</td>\n",
       "      <td>140</td>\n",
       "      <td>90</td>\n",
       "      <td>3</td>\n",
       "      <td>1</td>\n",
       "      <td>0</td>\n",
       "      <td>0</td>\n",
       "      <td>1</td>\n",
       "      <td>1</td>\n",
       "    </tr>\n",
       "    <tr>\n",
       "      <th>2</th>\n",
       "      <td>2</td>\n",
       "      <td>52</td>\n",
       "      <td>1</td>\n",
       "      <td>165</td>\n",
       "      <td>64.0</td>\n",
       "      <td>130</td>\n",
       "      <td>70</td>\n",
       "      <td>3</td>\n",
       "      <td>1</td>\n",
       "      <td>0</td>\n",
       "      <td>0</td>\n",
       "      <td>0</td>\n",
       "      <td>1</td>\n",
       "    </tr>\n",
       "    <tr>\n",
       "      <th>3</th>\n",
       "      <td>3</td>\n",
       "      <td>48</td>\n",
       "      <td>2</td>\n",
       "      <td>169</td>\n",
       "      <td>82.0</td>\n",
       "      <td>150</td>\n",
       "      <td>100</td>\n",
       "      <td>1</td>\n",
       "      <td>1</td>\n",
       "      <td>0</td>\n",
       "      <td>0</td>\n",
       "      <td>1</td>\n",
       "      <td>1</td>\n",
       "    </tr>\n",
       "    <tr>\n",
       "      <th>4</th>\n",
       "      <td>4</td>\n",
       "      <td>48</td>\n",
       "      <td>1</td>\n",
       "      <td>156</td>\n",
       "      <td>56.0</td>\n",
       "      <td>100</td>\n",
       "      <td>60</td>\n",
       "      <td>1</td>\n",
       "      <td>1</td>\n",
       "      <td>0</td>\n",
       "      <td>0</td>\n",
       "      <td>0</td>\n",
       "      <td>0</td>\n",
       "    </tr>\n",
       "  </tbody>\n",
       "</table>\n",
       "</div>"
      ],
      "text/plain": [
       "   id  age  gender  height  weight  ap_hi  ap_lo  cholesterol  gluc  smoke   \n",
       "0   0   50       2     168    62.0    110     80            1     1      0  \\\n",
       "1   1   55       1     156    85.0    140     90            3     1      0   \n",
       "2   2   52       1     165    64.0    130     70            3     1      0   \n",
       "3   3   48       2     169    82.0    150    100            1     1      0   \n",
       "4   4   48       1     156    56.0    100     60            1     1      0   \n",
       "\n",
       "   alco  active  cardio  \n",
       "0     0       1       0  \n",
       "1     0       1       1  \n",
       "2     0       0       1  \n",
       "3     0       1       1  \n",
       "4     0       0       0  "
      ]
     },
     "execution_count": 38,
     "metadata": {},
     "output_type": "execute_result"
    }
   ],
   "source": [
    "#Переведемо вік у роки\n",
    "full_df['age'] = round(full_df['age'] / 365)\n",
    "full_df.age = full_df.age.astype(np.int64)\n",
    "full_df.head()"
   ]
  },
  {
   "cell_type": "code",
   "execution_count": 39,
   "id": "c93bd3fa-94ac-4a5f-8885-f455db2c45bb",
   "metadata": {
    "tags": []
   },
   "outputs": [
    {
     "name": "stdout",
     "output_type": "stream",
     "text": [
      "<class 'pandas.core.frame.DataFrame'>\n",
      "RangeIndex: 70000 entries, 0 to 69999\n",
      "Data columns (total 13 columns):\n",
      " #   Column       Non-Null Count  Dtype\n",
      "---  ------       --------------  -----\n",
      " 0   id           70000 non-null  int64\n",
      " 1   age          70000 non-null  int64\n",
      " 2   gender       70000 non-null  int64\n",
      " 3   height       70000 non-null  int64\n",
      " 4   weight       70000 non-null  int64\n",
      " 5   ap_hi        70000 non-null  int64\n",
      " 6   ap_lo        70000 non-null  int64\n",
      " 7   cholesterol  70000 non-null  int64\n",
      " 8   gluc         70000 non-null  int64\n",
      " 9   smoke        70000 non-null  int64\n",
      " 10  alco         70000 non-null  int64\n",
      " 11  active       70000 non-null  int64\n",
      " 12  cardio       70000 non-null  int64\n",
      "dtypes: int64(13)\n",
      "memory usage: 6.9 MB\n"
     ]
    }
   ],
   "source": [
    "#перетворимо представлення ваги з float64 на цілі числа.\n",
    "full_df.weight = full_df.weight.astype(np.int64)\n",
    "full_df.info()"
   ]
  },
  {
   "cell_type": "code",
   "execution_count": 40,
   "id": "d329e95c-2fa7-456b-9fa2-6f62671c39cb",
   "metadata": {
    "tags": []
   },
   "outputs": [
    {
     "data": {
      "text/plain": [
       "count    70000.000000\n",
       "mean        74.204329\n",
       "std         14.395953\n",
       "min         10.000000\n",
       "25%         65.000000\n",
       "50%         72.000000\n",
       "75%         82.000000\n",
       "max        200.000000\n",
       "Name: weight, dtype: float64"
      ]
     },
     "execution_count": 40,
     "metadata": {},
     "output_type": "execute_result"
    }
   ],
   "source": [
    "full_df.weight.describe()"
   ]
  },
  {
   "cell_type": "code",
   "execution_count": 41,
   "id": "23716974-5e2f-4512-b978-10d526404124",
   "metadata": {
    "tags": []
   },
   "outputs": [
    {
     "name": "stdout",
     "output_type": "stream",
     "text": [
      "<class 'pandas.core.frame.DataFrame'>\n",
      "Index: 69990 entries, 0 to 69999\n",
      "Data columns (total 13 columns):\n",
      " #   Column       Non-Null Count  Dtype\n",
      "---  ------       --------------  -----\n",
      " 0   id           69990 non-null  int64\n",
      " 1   age          69990 non-null  int64\n",
      " 2   gender       69990 non-null  int64\n",
      " 3   height       69990 non-null  int64\n",
      " 4   weight       69990 non-null  int64\n",
      " 5   ap_hi        69990 non-null  int64\n",
      " 6   ap_lo        69990 non-null  int64\n",
      " 7   cholesterol  69990 non-null  int64\n",
      " 8   gluc         69990 non-null  int64\n",
      " 9   smoke        69990 non-null  int64\n",
      " 10  alco         69990 non-null  int64\n",
      " 11  active       69990 non-null  int64\n",
      " 12  cardio       69990 non-null  int64\n",
      "dtypes: int64(13)\n",
      "memory usage: 7.5 MB\n"
     ]
    }
   ],
   "source": [
    "#Найхудіща доросла людина на Землі важить приблизно 23 кг, тому всі інші дані можуть бути викидами\n",
    "full_df = full_df[full_df.weight > 30]\n",
    "full_df.info()"
   ]
  },
  {
   "cell_type": "code",
   "execution_count": 42,
   "id": "2cbb7ac4-62f5-46e7-89dc-7fa57d11e959",
   "metadata": {
    "tags": []
   },
   "outputs": [
    {
     "data": {
      "text/plain": [
       "count    69990.000000\n",
       "mean        74.211587\n",
       "std         14.383905\n",
       "min         31.000000\n",
       "25%         65.000000\n",
       "50%         72.000000\n",
       "75%         82.000000\n",
       "max        200.000000\n",
       "Name: weight, dtype: float64"
      ]
     },
     "execution_count": 42,
     "metadata": {},
     "output_type": "execute_result"
    }
   ],
   "source": [
    "full_df.weight.describe()"
   ]
  },
  {
   "cell_type": "code",
   "execution_count": 43,
   "id": "e4c5d537-1782-48c1-a6ad-47d157e4af16",
   "metadata": {
    "tags": []
   },
   "outputs": [
    {
     "data": {
      "text/plain": [
       "count    69990.000000\n",
       "mean       128.818217\n",
       "std        154.022205\n",
       "min       -150.000000\n",
       "25%        120.000000\n",
       "50%        120.000000\n",
       "75%        140.000000\n",
       "max      16020.000000\n",
       "Name: ap_hi, dtype: float64"
      ]
     },
     "execution_count": 43,
     "metadata": {},
     "output_type": "execute_result"
    }
   ],
   "source": [
    "full_df.ap_hi.describe()"
   ]
  },
  {
   "cell_type": "code",
   "execution_count": 44,
   "id": "f6ce73dd-7867-49fe-820e-d3b1fdeab22e",
   "metadata": {
    "tags": []
   },
   "outputs": [
    {
     "data": {
      "text/plain": [
       "count    69572.000000\n",
       "mean       126.823420\n",
       "std         16.626402\n",
       "min         80.000000\n",
       "25%        120.000000\n",
       "50%        120.000000\n",
       "75%        140.000000\n",
       "max        199.000000\n",
       "Name: ap_hi, dtype: float64"
      ]
     },
     "execution_count": 44,
     "metadata": {},
     "output_type": "execute_result"
    }
   ],
   "source": [
    "#нормальний діапазон систолічного артеріального тиску може бути від 70 до 200\n",
    "\n",
    "full_df = full_df[(full_df.ap_hi < 200) & (full_df.ap_hi > 70 )]\n",
    "full_df.ap_hi.describe()"
   ]
  },
  {
   "cell_type": "code",
   "execution_count": 45,
   "id": "b5bf2b9f-d599-4d66-9aa3-5317ae1ab26e",
   "metadata": {
    "tags": []
   },
   "outputs": [
    {
     "data": {
      "text/plain": [
       "count    69572.000000\n",
       "mean        96.114543\n",
       "std        183.297261\n",
       "min          0.000000\n",
       "25%         80.000000\n",
       "50%         80.000000\n",
       "75%         90.000000\n",
       "max      10000.000000\n",
       "Name: ap_lo, dtype: float64"
      ]
     },
     "execution_count": 45,
     "metadata": {},
     "output_type": "execute_result"
    }
   ],
   "source": [
    "full_df.ap_lo.describe()"
   ]
  },
  {
   "cell_type": "code",
   "execution_count": 46,
   "id": "aacf7948-3629-442f-8c4a-f0c35fb48aeb",
   "metadata": {
    "tags": []
   },
   "outputs": [
    {
     "data": {
      "text/plain": [
       "count    63883.000000\n",
       "mean        79.776764\n",
       "std          7.661501\n",
       "min         45.000000\n",
       "25%         80.000000\n",
       "50%         80.000000\n",
       "75%         80.000000\n",
       "max         99.000000\n",
       "Name: ap_lo, dtype: float64"
      ]
     },
     "execution_count": 46,
     "metadata": {},
     "output_type": "execute_result"
    }
   ],
   "source": [
    "#діастолічний тиск значно перевищує середній діапазон 40:100\n",
    "full_df = full_df[(full_df.ap_lo < 100) &( full_df.ap_lo > 40 )]\n",
    "full_df.ap_lo.describe()"
   ]
  },
  {
   "cell_type": "code",
   "execution_count": 47,
   "id": "fdc4c749-fbc8-42b6-8d54-77824476fde4",
   "metadata": {
    "tags": []
   },
   "outputs": [
    {
     "data": {
      "text/plain": [
       "<Axes: >"
      ]
     },
     "execution_count": 47,
     "metadata": {},
     "output_type": "execute_result"
    },
    {
     "data": {
      "image/png": "[encoded data removed]",
      "text/plain": [
       "<Figure size 1200x1000 with 2 Axes>"
      ]
     },
     "metadata": {},
     "output_type": "display_data"
    }
   ],
   "source": [
    "import seaborn as sns\n",
    "import matplotlib.pyplot as plt\n",
    "plt.figure(figsize = (12,10))\n",
    "sns.heatmap(full_df.corr() , cmap = 'Greys' , annot = True)"
   ]
  },
  {
   "cell_type": "code",
   "execution_count": 48,
   "id": "a966a83e-e732-4f70-92d9-02597a34aafb",
   "metadata": {},
   "outputs": [],
   "source": [
    "y = full_df['cardio'].astype(str)\n",
    "X = full_df.drop(['cardio'] , axis =1)\n",
    "\n",
    "#Розділяємо датасет на тренувальний та тестовий\n",
    "from sklearn.model_selection import train_test_split\n",
    "X_train, X_test, y_train, y_test = train_test_split(X, y, test_size=0.33, random_state=42)"
   ]
  },
  {
   "cell_type": "code",
   "execution_count": 49,
   "id": "a8194289-6539-4b08-8d1c-74441ce8da0d",
   "metadata": {},
   "outputs": [
    {
     "name": "stdout",
     "output_type": "stream",
     "text": [
      "Accuracy score: 0.716630300730481\n"
     ]
    }
   ],
   "source": [
    "from sklearn import tree\n",
    "\n",
    "dec = tree.DecisionTreeClassifier(max_depth=3)\n",
    "\n",
    "dec.fit(X_train, y_train)\n",
    "scores = dec.score(X_test, y_test)\n",
    "print(\"Accuracy score:\", scores)\n",
    "\n"
   ]
  },
  {
   "cell_type": "code",
   "execution_count": 50,
   "id": "e0388bd0-6ef1-4cb1-819a-47a288ffd5e0",
   "metadata": {
    "tags": []
   },
   "outputs": [
    {
     "name": "stdout",
     "output_type": "stream",
     "text": [
      "Кількість вузлів:  15\n",
      "Глибина дерева:  3\n",
      "Кількість листків:  8\n"
     ]
    }
   ],
   "source": [
    "num_nodes = dec.tree_.node_count\n",
    "depth = dec.get_depth()\n",
    "num_leaves = dec.get_n_leaves()\n",
    "\n",
    "print(\"Кількість вузлів: \", num_nodes)\n",
    "print(\"Глибина дерева: \", depth)\n",
    "print(\"Кількість листків: \", num_leaves)\n"
   ]
  },
  {
   "cell_type": "code",
   "execution_count": 51,
   "id": "8c876c4a-bf0b-49d0-9526-a7d5ca31541b",
   "metadata": {
    "tags": []
   },
   "outputs": [
    {
     "data": {
      "text/plain": [
       "'decision_tree_cardio.pdf'"
      ]
     },
     "execution_count": 51,
     "metadata": {},
     "output_type": "execute_result"
    }
   ],
   "source": [
    "#Візуалізація дерева рішень\n",
    "dot_data = tree.export_graphviz(dec, out_file=None, \n",
    "                                feature_names=X.columns, \n",
    "                                class_names=dec.classes_, \n",
    "                                filled=True)\n",
    "\n",
    "# Створення об'єкту графу на основі згенерованого коду\n",
    "graph = graphviz.Source(dot_data)\n",
    "\n",
    "# Відображення графічного представлення дерева\n",
    "graph.render(filename='decision_tree_cardio', format='png', cleanup=True)\n",
    "graph.view()"
   ]
  },
  {
   "cell_type": "code",
   "execution_count": null,
   "id": "f273fad6-9540-4bd1-acf0-7c1efe387a29",
   "metadata": {},
   "outputs": [],
   "source": []
  }
 ],
 "metadata": {
  "kernelspec": {
   "display_name": "Python 3 (ipykernel)",
   "language": "python",
   "name": "python3"
  },
  "language_info": {
   "codemirror_mode": {
    "name": "ipython",
    "version": 3
   },
   "file_extension": ".py",
   "mimetype": "text/x-python",
   "name": "python",
   "nbconvert_exporter": "python",
   "pygments_lexer": "ipython3",
   "version": "3.11.3"
  }
 },
 "nbformat": 4,
 "nbformat_minor": 5
}
